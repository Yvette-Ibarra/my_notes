{
 "cells": [
  {
   "cell_type": "markdown",
   "id": "6f7b79c4",
   "metadata": {},
   "source": [
    "# For Loops"
   ]
  },
  {
   "cell_type": "markdown",
   "id": "100f25f8",
   "metadata": {},
   "source": [
    "### 6 Tips:\n"
   ]
  },
  {
   "cell_type": "markdown",
   "id": "ed5580b0",
   "metadata": {},
   "source": [
    "### *1 Do not use them at all. Some built in methods accomplish the same result in one of line code and are optimized."
   ]
  },
  {
   "cell_type": "code",
   "execution_count": 3,
   "id": "26383160",
   "metadata": {},
   "outputs": [],
   "source": [
    "numbers = [10,20,30,40,50]\n",
    "result = 0"
   ]
  },
  {
   "cell_type": "code",
   "execution_count": 2,
   "id": "474d6336",
   "metadata": {},
   "outputs": [
    {
     "name": "stdout",
     "output_type": "stream",
     "text": [
      "150\n"
     ]
    }
   ],
   "source": [
    "# for loop\n",
    "for num in numbers:\n",
    "    result += num\n",
    "print(result)"
   ]
  },
  {
   "cell_type": "code",
   "execution_count": 65,
   "id": "49b64da6",
   "metadata": {},
   "outputs": [
    {
     "data": {
      "text/plain": [
       "150"
      ]
     },
     "execution_count": 65,
     "metadata": {},
     "output_type": "execute_result"
    }
   ],
   "source": [
    "# built in method\n",
    "result = sum(numbers)\n",
    "result"
   ]
  },
  {
   "cell_type": "markdown",
   "id": "15f95524",
   "metadata": {},
   "source": [
    "### *2 Use enumerate when you need both the index and the value. Enumerate will return the index and the value as a tupel"
   ]
  },
  {
   "cell_type": "code",
   "execution_count": 7,
   "id": "e295f371",
   "metadata": {},
   "outputs": [
    {
     "name": "stdout",
     "output_type": "stream",
     "text": [
      "0 10\n",
      "1 20\n",
      "2 30\n",
      "3 40\n",
      "4 50\n"
     ]
    }
   ],
   "source": [
    "# normal forl loop \n",
    "for idx in range(len(numbers)):\n",
    "    print(idx, numbers[idx])"
   ]
  },
  {
   "cell_type": "code",
   "execution_count": 9,
   "id": "12a5b0c2",
   "metadata": {},
   "outputs": [
    {
     "name": "stdout",
     "output_type": "stream",
     "text": [
      "0 10\n",
      "1 20\n",
      "2 30\n",
      "3 40\n",
      "4 50\n"
     ]
    }
   ],
   "source": [
    "# Using enumerate\n",
    "for idx,value in enumerate(numbers):\n",
    "    print(idx, value)\n",
    "    "
   ]
  },
  {
   "cell_type": "code",
   "execution_count": 10,
   "id": "a9a0c058",
   "metadata": {},
   "outputs": [
    {
     "name": "stdout",
     "output_type": "stream",
     "text": [
      "3 10\n",
      "4 20\n",
      "5 30\n",
      "6 40\n",
      "7 50\n"
     ]
    }
   ],
   "source": [
    "# Using enumerate has an option to choose a start index value\n",
    "for idx,value in enumerate(numbers, start =3):\n",
    "    print(idx, value)\n",
    "    "
   ]
  },
  {
   "cell_type": "markdown",
   "id": "d716a611",
   "metadata": {},
   "source": [
    "### *3 Use zip. A normal for loop will only work if the list 'b' is bigger than list 'a' or the same length. With zip, the pairing of the values will continue until there is no more pairs to make."
   ]
  },
  {
   "cell_type": "code",
   "execution_count": 20,
   "id": "189b9eeb",
   "metadata": {},
   "outputs": [],
   "source": [
    "# list are the same length\n",
    "a = [1,2,3,4,5]\n",
    "b = ['a','b','c','d','e']"
   ]
  },
  {
   "cell_type": "code",
   "execution_count": 21,
   "id": "9004e755",
   "metadata": {
    "scrolled": true
   },
   "outputs": [
    {
     "name": "stdout",
     "output_type": "stream",
     "text": [
      "1 a\n",
      "2 b\n",
      "3 c\n",
      "4 d\n",
      "5 e\n"
     ]
    }
   ],
   "source": [
    "# normal for loop\n",
    "for i in range(len(a)):\n",
    "    print (a[i], b[i])"
   ]
  },
  {
   "cell_type": "code",
   "execution_count": 22,
   "id": "a082e6a0",
   "metadata": {},
   "outputs": [
    {
     "name": "stdout",
     "output_type": "stream",
     "text": [
      "1 a\n",
      "2 b\n",
      "3 c\n"
     ]
    }
   ],
   "source": [
    "# list b is bigger length than list a\n",
    "a = [1,2,3]\n",
    "b = ['a','b','c','d','e']\n",
    "# normal for loop\n",
    "for i in range(len(a)):\n",
    "    print (a[i], b[i])"
   ]
  },
  {
   "cell_type": "code",
   "execution_count": 23,
   "id": "c8c7f2f5",
   "metadata": {},
   "outputs": [
    {
     "name": "stdout",
     "output_type": "stream",
     "text": [
      "1 a\n",
      "2 b\n",
      "3 c\n"
     ]
    },
    {
     "ename": "IndexError",
     "evalue": "list index out of range",
     "output_type": "error",
     "traceback": [
      "\u001b[0;31m---------------------------------------------------------------------------\u001b[0m",
      "\u001b[0;31mIndexError\u001b[0m                                Traceback (most recent call last)",
      "Input \u001b[0;32mIn [23]\u001b[0m, in \u001b[0;36m<cell line: 5>\u001b[0;34m()\u001b[0m\n\u001b[1;32m      4\u001b[0m \u001b[38;5;66;03m# normal for loop\u001b[39;00m\n\u001b[1;32m      5\u001b[0m \u001b[38;5;28;01mfor\u001b[39;00m i \u001b[38;5;129;01min\u001b[39;00m \u001b[38;5;28mrange\u001b[39m(\u001b[38;5;28mlen\u001b[39m(a)):\n\u001b[0;32m----> 6\u001b[0m     \u001b[38;5;28mprint\u001b[39m (a[i], \u001b[43mb\u001b[49m\u001b[43m[\u001b[49m\u001b[43mi\u001b[49m\u001b[43m]\u001b[49m)\n",
      "\u001b[0;31mIndexError\u001b[0m: list index out of range"
     ]
    }
   ],
   "source": [
    "# lists are not the same lengths. List b is smaller\n",
    "a = [1,2,3,4,5]\n",
    "b = ['a','b','c']\n",
    "# normal for loop\n",
    "for i in range(len(a)):\n",
    "    print (a[i], b[i])"
   ]
  },
  {
   "cell_type": "code",
   "execution_count": 24,
   "id": "1ad71ded",
   "metadata": {},
   "outputs": [
    {
     "name": "stdout",
     "output_type": "stream",
     "text": [
      "1 a\n",
      "2 b\n",
      "3 c\n",
      "4 d\n",
      "5 e\n"
     ]
    }
   ],
   "source": [
    "# Using zip\n",
    "\n",
    "# list are the same length\n",
    "a = [1,2,3,4,5]\n",
    "b = ['a','b','c','d','e']\n",
    "\n",
    "for value1, value2 in zip(a,b):\n",
    "    print(value1, value2)"
   ]
  },
  {
   "cell_type": "code",
   "execution_count": 25,
   "id": "ab38e57d",
   "metadata": {},
   "outputs": [
    {
     "name": "stdout",
     "output_type": "stream",
     "text": [
      "1 a\n",
      "2 b\n",
      "3 c\n"
     ]
    }
   ],
   "source": [
    "# Using zip\n",
    "\n",
    "# list b is bigger\n",
    "a = [1,2,3]\n",
    "b = ['a','b','c','d','e']\n",
    "\n",
    "for value1, value2 in zip(a,b):\n",
    "    print(value1, value2)"
   ]
  },
  {
   "cell_type": "code",
   "execution_count": 26,
   "id": "29e538e7",
   "metadata": {},
   "outputs": [
    {
     "name": "stdout",
     "output_type": "stream",
     "text": [
      "1 a\n",
      "2 b\n",
      "3 c\n"
     ]
    }
   ],
   "source": [
    "# Using zip\n",
    "\n",
    "# list a is bigger\n",
    "a = [1,2,3,4,5]\n",
    "b = ['a','b','c']\n",
    "\n",
    "for value1, value2 in zip(a,b):\n",
    "    print(value1, value2)"
   ]
  },
  {
   "cell_type": "code",
   "execution_count": 28,
   "id": "dcc9554e",
   "metadata": {},
   "outputs": [
    {
     "name": "stdout",
     "output_type": "stream",
     "text": [
      "1 a\n",
      "2 b\n",
      "3 c\n"
     ]
    }
   ],
   "source": [
    "# Using zip\n",
    "\n",
    "# list a is bigger\n",
    "a = [1,2,3,4,5]\n",
    "b = ['a','b','c']\n",
    "\n",
    "for value1, value2 in zip(a,b):\n",
    "    print(value1, value2)"
   ]
  },
  {
   "cell_type": "markdown",
   "id": "fec1473c",
   "metadata": {},
   "source": [
    "### *4 Use a generator"
   ]
  },
  {
   "cell_type": "code",
   "execution_count": 32,
   "id": "55541fd2",
   "metadata": {},
   "outputs": [
    {
     "name": "stdout",
     "output_type": "stream",
     "text": [
      "6\n"
     ]
    }
   ],
   "source": [
    "events = [ ('run',5),('walk',10),('run',1)]\n",
    "minutes_run = 0\n",
    "\n",
    "# Using for loop\n",
    "for event in events:\n",
    "    if event [0] == 'run':\n",
    "        minutes_run += event[1]\n",
    "print(minutes_run)"
   ]
  },
  {
   "cell_type": "code",
   "execution_count": 34,
   "id": "7d8e3ea7",
   "metadata": {},
   "outputs": [
    {
     "name": "stdout",
     "output_type": "stream",
     "text": [
      "6\n"
     ]
    }
   ],
   "source": [
    "# Using generator\n",
    "run_times = (event[1] for event in events if event[0]=='run')\n",
    "minutes_run2 = sum(run_times)\n",
    "print(minutes_run2)"
   ]
  },
  {
   "cell_type": "markdown",
   "id": "df157570",
   "metadata": {},
   "source": [
    "### *5 Use itertools. "
   ]
  },
  {
   "cell_type": "code",
   "execution_count": 36,
   "id": "4629e59e",
   "metadata": {},
   "outputs": [],
   "source": [
    "colors = ['color0','color1', 'color2','color3','color4','color5','color6','color7','color8','color9']"
   ]
  },
  {
   "cell_type": "code",
   "execution_count": 38,
   "id": "322b3f4b",
   "metadata": {
    "scrolled": true
   },
   "outputs": [
    {
     "name": "stdout",
     "output_type": "stream",
     "text": [
      "color0\n",
      "color1\n",
      "color2\n",
      "color3\n",
      "color4\n"
     ]
    }
   ],
   "source": [
    "# using for loop\n",
    "for i, color in enumerate(colors):\n",
    "    if i >=5:\n",
    "        break\n",
    "    print(color)"
   ]
  },
  {
   "cell_type": "markdown",
   "id": "3c6d828a",
   "metadata": {},
   "source": [
    "#### islice"
   ]
  },
  {
   "cell_type": "code",
   "execution_count": 44,
   "id": "76c69703",
   "metadata": {},
   "outputs": [
    {
     "name": "stdout",
     "output_type": "stream",
     "text": [
      "color0\n",
      "color1\n",
      "color2\n",
      "color3\n",
      "color4\n"
     ]
    }
   ],
   "source": [
    "# import islice\n",
    "from itertools import islice\n",
    "\n",
    "# use itertools\n",
    "first_five_colors = islice(colors,5)\n",
    "for color in first_five_colors:\n",
    "    print(color)"
   ]
  },
  {
   "cell_type": "code",
   "execution_count": 47,
   "id": "9305d679",
   "metadata": {
    "scrolled": true
   },
   "outputs": [
    {
     "name": "stdout",
     "output_type": "stream",
     "text": [
      "color1\n",
      "color4\n",
      "color7\n"
     ]
    }
   ],
   "source": [
    "# use itertools with start, stop and step\n",
    "first_five_colors = islice(colors,1,9,3)\n",
    "for color in first_five_colors:\n",
    "    print(color)"
   ]
  },
  {
   "cell_type": "markdown",
   "id": "a807ff33",
   "metadata": {},
   "source": [
    "#### takewhile"
   ]
  },
  {
   "cell_type": "code",
   "execution_count": 56,
   "id": "3ed6014b",
   "metadata": {},
   "outputs": [
    {
     "name": "stdout",
     "output_type": "stream",
     "text": [
      "1\n",
      "2\n",
      "3\n",
      "4\n",
      "5\n"
     ]
    }
   ],
   "source": [
    "for item in [1,2,3,4,5, -1,0,4,5]:\n",
    "    if item >=0:\n",
    "        print (item)\n",
    "    else:\n",
    "        break"
   ]
  },
  {
   "cell_type": "code",
   "execution_count": 57,
   "id": "f6e9b00e",
   "metadata": {},
   "outputs": [
    {
     "name": "stdout",
     "output_type": "stream",
     "text": [
      "1\n",
      "2\n",
      "3\n",
      "4\n",
      "5\n"
     ]
    }
   ],
   "source": [
    "# import takewhile\n",
    "from itertools import takewhile\n",
    "\n",
    "# Use itertools\n",
    "items = takewhile(lambda x: x >= 0, [1,2,3,4,5, -1,0,4,5])\n",
    "for item in items:\n",
    "    print(item)"
   ]
  },
  {
   "cell_type": "markdown",
   "id": "78be4443",
   "metadata": {},
   "source": [
    "#### pair data"
   ]
  },
  {
   "cell_type": "code",
   "execution_count": 50,
   "id": "205fd072",
   "metadata": {
    "scrolled": true
   },
   "outputs": [
    {
     "name": "stdout",
     "output_type": "stream",
     "text": [
      "A B\n",
      "B C\n",
      "C D\n",
      "D E\n",
      "E F\n",
      "F G\n"
     ]
    }
   ],
   "source": [
    "# pair data from same list\n",
    "data = 'ABCDEFG'\n",
    "\n",
    "# for loop\n",
    "for i in range(len(data)-1):\n",
    "    print(data[i], data[i+1])"
   ]
  },
  {
   "cell_type": "code",
   "execution_count": null,
   "id": "da0371dd",
   "metadata": {},
   "outputs": [],
   "source": [
    "from itertools import pairwise\n",
    "for pair in pairwise('ABCDEFG'):\n",
    "    print(pair[0],pair[1])"
   ]
  },
  {
   "cell_type": "markdown",
   "id": "e7ffa71f",
   "metadata": {},
   "source": [
    "### *6 Use numpy. Numpy provides function for many mathematical ideas."
   ]
  },
  {
   "cell_type": "code",
   "execution_count": 61,
   "id": "be31bc41",
   "metadata": {},
   "outputs": [],
   "source": [
    "# import numpy\n",
    "import numpy as np"
   ]
  },
  {
   "cell_type": "code",
   "execution_count": 62,
   "id": "a21d1a44",
   "metadata": {
    "scrolled": true
   },
   "outputs": [
    {
     "data": {
      "text/plain": [
       "150"
      ]
     },
     "execution_count": 62,
     "metadata": {},
     "output_type": "execute_result"
    }
   ],
   "source": [
    "# use numpy to sum\n",
    "np.sum(numbers)"
   ]
  },
  {
   "cell_type": "code",
   "execution_count": null,
   "id": "48cc6489",
   "metadata": {},
   "outputs": [],
   "source": []
  },
  {
   "cell_type": "code",
   "execution_count": null,
   "id": "7a2ad63d",
   "metadata": {},
   "outputs": [],
   "source": []
  },
  {
   "cell_type": "code",
   "execution_count": null,
   "id": "afcedcbe",
   "metadata": {},
   "outputs": [],
   "source": []
  },
  {
   "cell_type": "code",
   "execution_count": null,
   "id": "ad066676",
   "metadata": {},
   "outputs": [],
   "source": []
  },
  {
   "cell_type": "code",
   "execution_count": null,
   "id": "0063b46c",
   "metadata": {},
   "outputs": [],
   "source": []
  },
  {
   "cell_type": "code",
   "execution_count": null,
   "id": "b5c6b611",
   "metadata": {},
   "outputs": [],
   "source": []
  }
 ],
 "metadata": {
  "kernelspec": {
   "display_name": "Python 3 (ipykernel)",
   "language": "python",
   "name": "python3"
  },
  "language_info": {
   "codemirror_mode": {
    "name": "ipython",
    "version": 3
   },
   "file_extension": ".py",
   "mimetype": "text/x-python",
   "name": "python",
   "nbconvert_exporter": "python",
   "pygments_lexer": "ipython3",
   "version": "3.9.12"
  }
 },
 "nbformat": 4,
 "nbformat_minor": 5
}
